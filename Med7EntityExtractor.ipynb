{
 "cells": [
  {
   "cell_type": "code",
   "execution_count": 3,
   "id": "4fe18e8b",
   "metadata": {},
   "outputs": [],
   "source": [
    "import spacy"
   ]
  },
  {
   "cell_type": "code",
   "execution_count": 6,
   "id": "b354789c",
   "metadata": {},
   "outputs": [
    {
     "name": "stdout",
     "output_type": "stream",
     "text": [
      "Collecting https://med7.s3.eu-west-2.amazonaws.com/en_core_med7_lg.tar.gz\n",
      "  Using cached https://med7.s3.eu-west-2.amazonaws.com/en_core_med7_lg.tar.gz (892.8 MB)\n",
      "Requirement already satisfied: spacy>=2.3.2 in c:\\users\\ashashiju\\anaconda3\\lib\\site-packages (from en-core-med7-lg==0.0.3) (2.3.5)\n",
      "Requirement already satisfied: thinc<7.5.0,>=7.4.1 in c:\\users\\ashashiju\\appdata\\roaming\\python\\python38\\site-packages (from spacy>=2.3.2->en-core-med7-lg==0.0.3) (7.4.5)\n",
      "Requirement already satisfied: murmurhash<1.1.0,>=0.28.0 in c:\\users\\ashashiju\\anaconda3\\lib\\site-packages (from spacy>=2.3.2->en-core-med7-lg==0.0.3) (1.0.5)\n",
      "Requirement already satisfied: numpy>=1.15.0 in c:\\users\\ashashiju\\anaconda3\\lib\\site-packages (from spacy>=2.3.2->en-core-med7-lg==0.0.3) (1.20.1)\n",
      "Requirement already satisfied: srsly<1.1.0,>=1.0.2 in c:\\users\\ashashiju\\anaconda3\\lib\\site-packages (from spacy>=2.3.2->en-core-med7-lg==0.0.3) (1.0.5)\n",
      "Requirement already satisfied: preshed<3.1.0,>=3.0.2 in c:\\users\\ashashiju\\anaconda3\\lib\\site-packages (from spacy>=2.3.2->en-core-med7-lg==0.0.3) (3.0.5)\n",
      "Requirement already satisfied: tqdm<5.0.0,>=4.38.0 in c:\\users\\ashashiju\\anaconda3\\lib\\site-packages (from spacy>=2.3.2->en-core-med7-lg==0.0.3) (4.59.0)\n",
      "Requirement already satisfied: requests<3.0.0,>=2.13.0 in c:\\users\\ashashiju\\anaconda3\\lib\\site-packages (from spacy>=2.3.2->en-core-med7-lg==0.0.3) (2.25.1)\n",
      "Requirement already satisfied: setuptools in c:\\users\\ashashiju\\anaconda3\\lib\\site-packages (from spacy>=2.3.2->en-core-med7-lg==0.0.3) (52.0.0.post20210125)\n",
      "Requirement already satisfied: blis<0.8.0,>=0.4.0 in c:\\users\\ashashiju\\anaconda3\\lib\\site-packages (from spacy>=2.3.2->en-core-med7-lg==0.0.3) (0.7.4)\n",
      "Requirement already satisfied: wasabi<1.1.0,>=0.4.0 in c:\\users\\ashashiju\\anaconda3\\lib\\site-packages (from spacy>=2.3.2->en-core-med7-lg==0.0.3) (0.8.2)\n",
      "Requirement already satisfied: plac<1.2.0,>=0.9.6 in c:\\users\\ashashiju\\anaconda3\\lib\\site-packages (from spacy>=2.3.2->en-core-med7-lg==0.0.3) (1.1.3)\n",
      "Requirement already satisfied: catalogue<1.1.0,>=0.0.7 in c:\\users\\ashashiju\\anaconda3\\lib\\site-packages (from spacy>=2.3.2->en-core-med7-lg==0.0.3) (1.0.0)\n",
      "Requirement already satisfied: cymem<2.1.0,>=2.0.2 in c:\\users\\ashashiju\\anaconda3\\lib\\site-packages (from spacy>=2.3.2->en-core-med7-lg==0.0.3) (2.0.5)\n",
      "Requirement already satisfied: certifi>=2017.4.17 in c:\\users\\ashashiju\\anaconda3\\lib\\site-packages (from requests<3.0.0,>=2.13.0->spacy>=2.3.2->en-core-med7-lg==0.0.3) (2020.12.5)\n",
      "Requirement already satisfied: urllib3<1.27,>=1.21.1 in c:\\users\\ashashiju\\anaconda3\\lib\\site-packages (from requests<3.0.0,>=2.13.0->spacy>=2.3.2->en-core-med7-lg==0.0.3) (1.26.4)\n",
      "Requirement already satisfied: chardet<5,>=3.0.2 in c:\\users\\ashashiju\\anaconda3\\lib\\site-packages (from requests<3.0.0,>=2.13.0->spacy>=2.3.2->en-core-med7-lg==0.0.3) (4.0.0)\n",
      "Requirement already satisfied: idna<3,>=2.5 in c:\\users\\ashashiju\\anaconda3\\lib\\site-packages (from requests<3.0.0,>=2.13.0->spacy>=2.3.2->en-core-med7-lg==0.0.3) (2.10)\n"
     ]
    }
   ],
   "source": [
    "!pip install https://med7.s3.eu-west-2.amazonaws.com/en_core_med7_lg.tar.gz"
   ]
  },
  {
   "cell_type": "code",
   "execution_count": 1,
   "id": "8e195c21",
   "metadata": {},
   "outputs": [],
   "source": [
    "import en_core_med7_lg"
   ]
  },
  {
   "cell_type": "code",
   "execution_count": 2,
   "id": "08eb0cb8",
   "metadata": {},
   "outputs": [],
   "source": [
    "med7 = en_core_med7_lg.load()"
   ]
  },
  {
   "cell_type": "code",
   "execution_count": 3,
   "id": "56d9ed20",
   "metadata": {},
   "outputs": [],
   "source": [
    "# some text which contains medical concepts\n",
    "text = 'A patient was prescribed Magnesium hydroxide 400mg/5ml suspension PO of total 30ml  bid for the next 5 days.'\n",
    "doc = med7(text)"
   ]
  },
  {
   "cell_type": "code",
   "execution_count": 4,
   "id": "b5f5d9a5",
   "metadata": {},
   "outputs": [
    {
     "data": {
      "text/plain": [
       "[('Magnesium hydroxide', 'DRUG'),\n",
       " ('400mg/5ml', 'DOSAGE'),\n",
       " ('suspension', 'FORM'),\n",
       " ('PO', 'ROUTE'),\n",
       " ('30ml', 'DOSAGE'),\n",
       " ('bid', 'FREQUENCY'),\n",
       " ('for the next 5 days', 'DURATION')]"
      ]
     },
     "execution_count": 4,
     "metadata": {},
     "output_type": "execute_result"
    }
   ],
   "source": [
    "# print identified entities\n",
    "[(ent.text, ent.label_) for ent in doc.ents]"
   ]
  },
  {
   "cell_type": "code",
   "execution_count": null,
   "id": "98371996",
   "metadata": {},
   "outputs": [],
   "source": []
  }
 ],
 "metadata": {
  "kernelspec": {
   "display_name": "Python 3",
   "language": "python",
   "name": "python3"
  },
  "language_info": {
   "codemirror_mode": {
    "name": "ipython",
    "version": 3
   },
   "file_extension": ".py",
   "mimetype": "text/x-python",
   "name": "python",
   "nbconvert_exporter": "python",
   "pygments_lexer": "ipython3",
   "version": "3.8.8"
  }
 },
 "nbformat": 4,
 "nbformat_minor": 5
}
